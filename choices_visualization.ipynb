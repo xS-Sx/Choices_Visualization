{
  "nbformat": 4,
  "nbformat_minor": 0,
  "metadata": {
    "colab": {
      "name": "choices_visualization.ipynb",
      "provenance": [],
      "collapsed_sections": [],
      "toc_visible": true,
      "authorship_tag": "ABX9TyOK7FF9YOLa+WEt+tsHIFvA",
      "include_colab_link": true
    },
    "kernelspec": {
      "name": "python3",
      "display_name": "Python 3"
    }
  },
  "cells": [
    {
      "cell_type": "markdown",
      "metadata": {
        "id": "view-in-github",
        "colab_type": "text"
      },
      "source": [
        "<a href=\"https://colab.research.google.com/github/xS-Sx/Choices_Visualization/blob/master/choices_visualization.ipynb\" target=\"_parent\"><img src=\"https://colab.research.google.com/assets/colab-badge.svg\" alt=\"Open In Colab\"/></a>"
      ]
    },
    {
      "cell_type": "markdown",
      "metadata": {
        "id": "u8-zQdBttLRe",
        "colab_type": "text"
      },
      "source": [
        "# Choices visualization tool\n",
        "\n",
        "This Jupyter scirpt is used to compare your choices with others and see if there are same choices .\n",
        "\n",
        "\n",
        "---\n",
        "\n",
        "\n",
        "## Example \n",
        "\n",
        "person  | choice\n",
        "--------|--------\n",
        "personA | Choice6, Choice2, Choice3\n",
        "personB | Choice10, Choice17, Choice11\n",
        "personC | Choice2, Choice2, Choice4\n",
        "personD | Choice6, Choice6, Choice2\n",
        "personE | Choice18, Choice15, Choice17\n",
        "personF | Choice2, Choice14, Choice16\n",
        "personG | Choice2, Choice15, Choice18\n",
        "\n",
        "\n",
        "---\n",
        "\n",
        "\n",
        "## Preference\n",
        "Please fill your choices in the as dict value and your name as dict key."
      ]
    },
    {
      "cell_type": "code",
      "metadata": {
        "id": "g3FTxm2F02kt",
        "colab_type": "code",
        "colab": {}
      },
      "source": [
        "choice_dict = {\n",
        "    'personA': ['Choice6', 'Choice2', 'Choice3'],\n",
        "    'personB': ['Choice10', 'Choice17', 'Choice11'],\n",
        "    'personC': ['Choice2', 'Choice2', 'Choice4'],\n",
        "    'personD': ['Choice6', 'Choice6', 'Choice2'],\n",
        "    'personE': ['Choice18', 'Choice15', 'Choice17'],\n",
        "    'personF': ['Choice2', 'Choice14', 'Choice16'],\n",
        "    'personG': ['Choice2', 'Choice15', 'Choice18']\n",
        "}"
      ],
      "execution_count": 0,
      "outputs": []
    },
    {
      "cell_type": "markdown",
      "metadata": {
        "id": "8Rq_2nwQhsqk",
        "colab_type": "text"
      },
      "source": [
        "\n",
        "\n",
        "---\n",
        "\n"
      ]
    },
    {
      "cell_type": "markdown",
      "metadata": {
        "id": "mFf7vAtd4W-i",
        "colab_type": "text"
      },
      "source": [
        "## Visualization\n",
        "Run the the 2 scripts below to have a look of the distribution of all our preferences. (p.s. for the VIPs)\n"
      ]
    },
    {
      "cell_type": "code",
      "metadata": {
        "id": "IzwryjFo5DQG",
        "colab_type": "code",
        "outputId": "c0014073-dc13-43f5-84b9-25852692e180",
        "colab": {
          "base_uri": "https://localhost:8080/",
          "height": 318
        }
      },
      "source": [
        "import matplotlib.pyplot as plt\n",
        "import numpy as np\n",
        "\n",
        "# all preferences visualization\n",
        "tb_value = list(choice_dict.values())\n",
        "bins_N = np.unique(tb_value).shape[0]\n",
        "plt.hist(tb_value, bins=bins_N, histtype='barstacked', rwidth=0.5, range=(0, bins_N), align='left', label=choice_dict.keys())\n",
        "plt.title('Choice distribution')\n",
        "plt.tick_params(labelrotation=90)\n",
        "plt.legend()\n",
        "plt.show()"
      ],
      "execution_count": 3,
      "outputs": [
        {
          "output_type": "display_data",
          "data": {
            "image/png": "[encoded data removed]",
            "text/plain": [
              "<Figure size 432x288 with 1 Axes>"
            ]
          },
          "metadata": {
            "tags": []
          }
        }
      ]
    },
    {
      "cell_type": "markdown",
      "metadata": {
        "id": "C5vQnuyZbvYK",
        "colab_type": "text"
      },
      "source": [
        "1st, 2nd and 3rd preferences visualization."
      ]
    }
  ]
}