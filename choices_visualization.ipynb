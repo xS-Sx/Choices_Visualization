{
  "nbformat": 4,
  "nbformat_minor": 0,
  "metadata": {
    "colab": {
      "name": "Untitled0.ipynb",
      "provenance": [],
      "authorship_tag": "ABX9TyOFOXNwrmP+h0iEcuBINuky",
      "include_colab_link": true
    },
    "kernelspec": {
      "name": "python3",
      "display_name": "Python 3"
    }
  },
  "cells": [
    {
      "cell_type": "markdown",
      "metadata": {
        "id": "view-in-github",
        "colab_type": "text"
      },
      "source": [
        "<a href=\"https://colab.research.google.com/github/xS-Sx/Choices_Visualization/blob/master/choices_visualization.ipynb\" target=\"_parent\"><img src=\"https://colab.research.google.com/assets/colab-badge.svg\" alt=\"Open In Colab\"/></a>"
      ]
    },
    {
      "cell_type": "markdown",
      "metadata": {
        "id": "u8-zQdBttLRe",
        "colab_type": "text"
      },
      "source": [
        "# Choices visualization tool\n",
        "\n",
        "Hey, guys. Here is a script to visualize our preferences to see if we have common choices. It's mainly implemented using histogram from `matplotlib` in Python.\n",
        "\n",
        "\n",
        "---\n",
        "\n",
        "\n",
        "## Options\n",
        "\n",
        "IT Class Member |  Coach\n",
        "--------------- |  -----\n",
        "Christopher | Cees van Wijk\n",
        "Xuefei | Jurriaan Costers\n",
        "Artsiom | Gaurang Popat\n",
        "Andrei | Joris Luijsterburg\n",
        "Qiuyi | Georgina Ciuchi\n",
        "Changxin | Paramjeet Singh\n",
        "Orestis | Bankim Bhatt\n",
        "Xusheng | Anand Kulkarni\n",
        "Anna | Loanna Tziouvara\n",
        "Yongyuan | Lukas Gommers\n",
        "Elton | Paul Braakman\n",
        "Xin | Pranjal Saikia\n",
        "Ali | Pranjal Saikia\n",
        "Joe | Robert Van Vark\n",
        "Yuan | Andre Diniz\n",
        "Sebastian | Vincent Verweij\n",
        "Jiaqi | Marc de Haan\n",
        "Madalena | Arturo Manzaneda Tudela\n",
        "Radu | Arturo Manzaneda Tudela\n",
        "Zhen | Eddy Yeung\n",
        "Xuehan | Goes Moreirao, R\n",
        "\n",
        "## Your Preference\n",
        "Please put your preferences with the coach name above in decsending order in the `choices_dict` below. The one with priority please use the `choice_vip_dict`. \n",
        "\n",
        "\n",
        "\n",
        "\n",
        "\n"
      ]
    },
    {
      "cell_type": "code",
      "metadata": {
        "id": "g3FTxm2F02kt",
        "colab_type": "code",
        "colab": {}
      },
      "source": [
        "choice_vip_dict = {\n",
        "    'Xuefei': ['Anand Kulkarni', 'Anand Kulkarni', 'Anand Kulkarni'],\n",
        "    'Andrei': ['Anand Kulkarni', 'Anand Kulkarni', 'Anand Kulkarni'],\n",
        "    'Xusheng': ['Gaurang Popat', 'Cees van Wijk', 'Vincent Verweij'],\n",
        "    'Sebastian': ['Anand Kulkarni', 'Anand Kulkarni', 'Anand Kulkarni'],\n",
        "    'Zhen': ['Anand Kulkarni', 'Anand Kulkarni', 'Anand Kulkarni']\n",
        "}"
      ],
      "execution_count": 0,
      "outputs": []
    },
    {
      "cell_type": "markdown",
      "metadata": {
        "id": "5baotxKl4B1F",
        "colab_type": "text"
      },
      "source": [
        "For those without priority, please create your own dict below as above."
      ]
    },
    {
      "cell_type": "code",
      "metadata": {
        "id": "7N8lFzul4Req",
        "colab_type": "code",
        "colab": {
          "base_uri": "https://localhost:8080/",
          "height": 54
        },
        "outputId": "b8d3d0a4-c175-4bf9-8ad9-2a1dc02a65b1"
      },
      "source": [
        "..."
      ],
      "execution_count": 3,
      "outputs": [
        {
          "output_type": "execute_result",
          "data": {
            "text/plain": [
              "dict_values([['Anand Kulkarni', 'Anand Kulkarni', 'Anand Kulkarni'], ['Anand Kulkarni', 'Anand Kulkarni', 'Anand Kulkarni'], ['Gaurang Popat', 'Cees van Wijk', 'Vincent Verweij'], ['Anand Kulkarni', 'Anand Kulkarni', 'Anand Kulkarni'], ['Anand Kulkarni', 'Anand Kulkarni', 'Anand Kulkarni']])"
            ]
          },
          "metadata": {
            "tags": []
          },
          "execution_count": 3
        }
      ]
    },
    {
      "cell_type": "markdown",
      "metadata": {
        "id": "mFf7vAtd4W-i",
        "colab_type": "text"
      },
      "source": [
        "# Visualization\n",
        "Run the below script to have a look of the distribution our preference. (for the VIPs)\n"
      ]
    },
    {
      "cell_type": "code",
      "metadata": {
        "id": "IzwryjFo5DQG",
        "colab_type": "code",
        "colab": {}
      },
      "source": [
        "import matplotlib.pyplot as plt\n",
        "import numpy as np\n",
        "import pandas as pd\n",
        "\n"
      ],
      "execution_count": 0,
      "outputs": []
    }
  ]
}